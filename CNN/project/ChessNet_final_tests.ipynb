{
 "cells": [
  {
   "cell_type": "markdown",
   "id": "64e32830-a15f-4774-8c2c-52104f0a3d6f",
   "metadata": {},
   "source": [
    "Tests for ChessNet"
   ]
  },
  {
   "cell_type": "code",
   "execution_count": 1,
   "id": "334145bb-7be4-4268-b0f0-fd44e7e6711f",
   "metadata": {},
   "outputs": [],
   "source": [
    "import numpy as np\n",
    "import re\n",
    "import pandas as pd\n",
    "import gc\n",
    "import torch\n",
    "from torch.utils.data import Dataset\n",
    "from torch.utils.data import DataLoader\n",
    "from torch import nn\n",
    "import torch.optim as optim\n",
    "import torch.nn.functional as F\n",
    "import matplotlib.pyplot as plt\n",
    "from config import Config #TODO: update to device to use config object\n",
    "from data import ChessDataset\n",
    "from complex_cnn.complex_model import ChessNet\n",
    "from preprocess import preprocess_chess_data\n",
    "from test import *"
   ]
  },
  {
   "cell_type": "code",
   "execution_count": 12,
   "id": "3f2c3d77-5e1c-4104-881e-e46be2870c7d",
   "metadata": {},
   "outputs": [
    {
     "name": "stdout",
     "output_type": "stream",
     "text": [
      "cuda\n"
     ]
    },
    {
     "data": {
      "text/plain": [
       "ChessNet(\n",
       "  (input_layer): Conv2d(6, 200, kernel_size=(3, 3), stride=(1, 1), padding=(1, 1))\n",
       "  (module_list): ModuleList(\n",
       "    (0-3): 4 x module(\n",
       "      (conv1): Conv2d(200, 200, kernel_size=(3, 3), stride=(1, 1), padding=(1, 1))\n",
       "      (conv2): Conv2d(200, 200, kernel_size=(3, 3), stride=(1, 1), padding=(1, 1))\n",
       "      (bn1): BatchNorm2d(200, eps=1e-05, momentum=0.1, affine=True, track_running_stats=True)\n",
       "      (bn2): BatchNorm2d(200, eps=1e-05, momentum=0.1, affine=True, track_running_stats=True)\n",
       "      (activation1): SELU()\n",
       "      (activation2): SELU()\n",
       "    )\n",
       "  )\n",
       "  (output_layer): Conv2d(200, 2, kernel_size=(3, 3), stride=(1, 1), padding=(1, 1))\n",
       ")"
      ]
     },
     "execution_count": 12,
     "metadata": {},
     "output_type": "execute_result"
    }
   ],
   "source": [
    "device = torch.device('cuda' if torch.cuda.is_available() else 'cpu')\n",
    "print(device)\n",
    "model_name = 'cnn_final.pth'\n",
    "saved_model = ChessNet(hidden_layers=4, hidden_size=200)\n",
    "PATH_name = f\"/home/tamiroffen/AI_Project/project/saved_models/{model_name}\"\n",
    "saved_model.load_state_dict(torch.load(PATH_name))\n",
    "saved_model.to(device)\n",
    "saved_model.eval()"
   ]
  },
  {
   "cell_type": "code",
   "execution_count": 13,
   "id": "335dcca4-43db-497d-a9d9-907305d1cfb9",
   "metadata": {},
   "outputs": [
    {
     "name": "stdout",
     "output_type": "stream",
     "text": [
      "Loaded datasets\n",
      "Loaders finished processing\n"
     ]
    }
   ],
   "source": [
    "config = Config()\n",
    "train_chess_data = preprocess_chess_data(f'{config.chess_dataset_dir}/train_dataset.csv')\n",
    "data_train = ChessDataset(train_chess_data['AN'])\n",
    "valid_chess_data = preprocess_chess_data(f'{config.chess_dataset_dir}/valid_dataset.csv')\n",
    "data_valid = ChessDataset(valid_chess_data['AN'])\n",
    "test_chess_data = preprocess_chess_data(f'{config.chess_dataset_dir}/test_dataset.csv')\n",
    "data_test = ChessDataset(test_chess_data['AN'])\n",
    "print(\"Loaded datasets\")\n",
    "\n",
    "data_train_loader = DataLoader(data_train, batch_size=config.batch_size, shuffle=False, drop_last=True)\n",
    "data_valid_loader = DataLoader(data_valid, batch_size=config.batch_size, shuffle=False, drop_last=True)\n",
    "data_test_loader = DataLoader(data_test, batch_size=config.batch_size, shuffle=False, drop_last=True)\n",
    "print(\"Loaders finished processing\")\n",
    "\n"
   ]
  },
  {
   "cell_type": "code",
   "execution_count": 14,
   "id": "3eca2cce-9860-412d-8bcc-844ad3d8a256",
   "metadata": {},
   "outputs": [
    {
     "name": "stdout",
     "output_type": "stream",
     "text": [
      "Train Set:\n",
      "Testing piece accuracy of model, over 1 num of epochs\n",
      "from accuracy: 0.39163910961946596\n",
      "piece accuracy: [p,r,n,b,q,k]: [0.8822695035460993, 0.37555555555555553, 0.6209463051568315, 0.5227736233854521, 0.2888198757763975, 0.62203519510329]\n",
      "overall piece accuracy: 0.5810964083175804\n"
     ]
    }
   ],
   "source": [
    "print(\"Train Set:\")\n",
    "from_accuracy_train, piece_accuracies_train, overall_piece_accuracy_train = test_piece_accuracy(saved_model, data_train_loader)\n",
    "print(f'from accuracy: {from_accuracy_train}')\n",
    "print(f'piece accuracy: [p,r,n,b,q,k]: {piece_accuracies_train}')\n",
    "print(f'overall piece accuracy: {overall_piece_accuracy_train}')"
   ]
  },
  {
   "cell_type": "code",
   "execution_count": 5,
   "id": "0009cde1-04a6-4977-8176-51187526d5a1",
   "metadata": {},
   "outputs": [
    {
     "name": "stdout",
     "output_type": "stream",
     "text": [
      "Valid Set:\n",
      "Testing piece accuracy of model, over 1 num of epochs\n",
      "from accuracy: 0.39210487553395196\n",
      "piece accuracy: [p,r,n,b,q,k]: [0.8622881355932204, 0.35508849557522126, 0.5996940336562978, 0.5239085239085239, 0.3013013013013013, 0.6484560570071259]\n",
      "overall piece accuracy: 0.5752566992236414\n"
     ]
    }
   ],
   "source": [
    "print(\"Valid Set:\")\n",
    "from_accuracy_valid, piece_accuracies_valid, overall_piece_accuracy_valid = test_piece_accuracy(saved_model, data_valid_loader)\n",
    "print(f'from accuracy: {from_accuracy_valid}')\n",
    "print(f'piece accuracy: [p,r,n,b,q,k]: {piece_accuracies_valid}')\n",
    "print(f'overall piece accuracy: {overall_piece_accuracy_valid}')"
   ]
  },
  {
   "cell_type": "code",
   "execution_count": 6,
   "id": "9b3d0548-dc64-4062-8036-a30022f92821",
   "metadata": {},
   "outputs": [
    {
     "name": "stdout",
     "output_type": "stream",
     "text": [
      "Test Set:\n",
      "Testing piece accuracy of model, over 1 num of epochs\n",
      "from accuracy: 0.38743196437407224\n",
      "piece accuracy: [p,r,n,b,q,k]: [0.8544698544698545, 0.3425814234016888, 0.6037424325811778, 0.549792531120332, 0.3007518796992481, 0.6539398862713242]\n",
      "overall piece accuracy: 0.5790549169859515\n"
     ]
    }
   ],
   "source": [
    "print(\"Test Set:\")\n",
    "from_accuracy_test, piece_accuracies_test, overall_piece_accuracy_test = test_piece_accuracy(saved_model, data_test_loader)\n",
    "print(f'from accuracy: {from_accuracy_test}')\n",
    "print(f'piece accuracy: [p,r,n,b,q,k]: {piece_accuracies_test}')\n",
    "print(f'overall piece accuracy: {overall_piece_accuracy_test}')"
   ]
  },
  {
   "cell_type": "code",
   "execution_count": null,
   "id": "9d870747-b421-4c8d-b6b9-48507ef2a997",
   "metadata": {},
   "outputs": [],
   "source": []
  }
 ],
 "metadata": {
  "kernelspec": {
   "display_name": "Python 3 (ipykernel)",
   "language": "python",
   "name": "python3"
  },
  "language_info": {
   "codemirror_mode": {
    "name": "ipython",
    "version": 3
   },
   "file_extension": ".py",
   "mimetype": "text/x-python",
   "name": "python",
   "nbconvert_exporter": "python",
   "pygments_lexer": "ipython3",
   "version": "3.8.12"
  }
 },
 "nbformat": 4,
 "nbformat_minor": 5
}
