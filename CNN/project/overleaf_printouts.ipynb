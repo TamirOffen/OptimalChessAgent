{
 "cells": [
  {
   "cell_type": "markdown",
   "id": "f0bf75c0-570e-42a4-a361-1a249f2417af",
   "metadata": {},
   "source": [
    "Outputs used in the paper"
   ]
  },
  {
   "cell_type": "code",
   "execution_count": 8,
   "id": "9fe31412-f52f-4582-bc02-252faadb7dc2",
   "metadata": {},
   "outputs": [],
   "source": [
    "import chess\n",
    "from preprocess import *\n",
    "import torch"
   ]
  },
  {
   "cell_type": "code",
   "execution_count": 3,
   "id": "89d69d63-43a5-4102-ad65-edce55a3bb03",
   "metadata": {},
   "outputs": [
    {
     "name": "stdout",
     "output_type": "stream",
     "text": [
      "r n b q k b n r\n",
      "p p p p p p p p\n",
      ". . . . . . . .\n",
      ". . . . . . . .\n",
      ". . . . . . . .\n",
      ". . . . . . . .\n",
      "P P P P P P P P\n",
      "R N B Q K B N R\n"
     ]
    }
   ],
   "source": [
    "board = chess.Board() \n",
    "print(board)"
   ]
  },
  {
   "cell_type": "code",
   "execution_count": 4,
   "id": "47ecf27a-56df-4d66-bddd-3b4780707f33",
   "metadata": {},
   "outputs": [
    {
     "name": "stdout",
     "output_type": "stream",
     "text": [
      "Square a1 has piece R\n",
      "Square b1 has piece N\n",
      "Square c1 has piece B\n",
      "Square d1 has piece Q\n",
      "Square e1 has piece K\n",
      "Square f1 has piece B\n",
      "Square g1 has piece N\n",
      "Square h1 has piece R\n",
      "Square a2 has piece P\n",
      "Square b2 has piece P\n",
      "Square c2 has piece P\n",
      "Square d2 has piece P\n",
      "Square e2 has piece P\n",
      "Square f2 has piece P\n",
      "Square g2 has piece P\n",
      "Square h2 has piece P\n",
      "Square a3 is empty\n",
      "Square b3 is empty\n",
      "Square c3 is empty\n",
      "Square d3 is empty\n",
      "Square e3 is empty\n",
      "Square f3 is empty\n",
      "Square g3 is empty\n",
      "Square h3 is empty\n",
      "Square a4 is empty\n",
      "Square b4 is empty\n",
      "Square c4 is empty\n",
      "Square d4 is empty\n",
      "Square e4 is empty\n",
      "Square f4 is empty\n",
      "Square g4 is empty\n",
      "Square h4 is empty\n",
      "Square a5 is empty\n",
      "Square b5 is empty\n",
      "Square c5 is empty\n",
      "Square d5 is empty\n",
      "Square e5 is empty\n",
      "Square f5 is empty\n",
      "Square g5 is empty\n",
      "Square h5 is empty\n",
      "Square a6 is empty\n",
      "Square b6 is empty\n",
      "Square c6 is empty\n",
      "Square d6 is empty\n",
      "Square e6 is empty\n",
      "Square f6 is empty\n",
      "Square g6 is empty\n",
      "Square h6 is empty\n",
      "Square a7 has piece p\n",
      "Square b7 has piece p\n",
      "Square c7 has piece p\n",
      "Square d7 has piece p\n",
      "Square e7 has piece p\n",
      "Square f7 has piece p\n",
      "Square g7 has piece p\n",
      "Square h7 has piece p\n",
      "Square a8 has piece r\n",
      "Square b8 has piece n\n",
      "Square c8 has piece b\n",
      "Square d8 has piece q\n",
      "Square e8 has piece k\n",
      "Square f8 has piece b\n",
      "Square g8 has piece n\n",
      "Square h8 has piece r\n"
     ]
    }
   ],
   "source": [
    "piece_to_val = {}\n",
    "val = 1\n",
    "num_board = board\n",
    "for square in chess.SQUARES:\n",
    "    piece = board.piece_at(square)\n",
    "    if piece is not None:\n",
    "        print(f\"Square {chess.square_name(square)} has piece {piece}\")\n",
    "        if piece in piece_to_val:\n",
    "            \n",
    "        else:\n",
    "            \n",
    "    else:\n",
    "        print(f\"Square {chess.square_name(square)} is empty\")"
   ]
  },
  {
   "cell_type": "code",
   "execution_count": 19,
   "id": "d3002235-cf66-4a59-90d1-88f8cc128491",
   "metadata": {},
   "outputs": [
    {
     "name": "stdout",
     "output_type": "stream",
     "text": [
      "[4, 2, 3, 0, 6, 3, 2, 4]\n",
      "[1, 1, 1, 1, 0, 1, 1, 1]\n",
      "[0, 0, 0, 0, 0, 0, 0, 0]\n",
      "[0, 0, 0, 0, 1, 0, 0, 0]\n",
      "[0, 0, 0, 0, 7, 0, 0, 5]\n",
      "[0, 0, 8, 0, 0, 0, 0, 0]\n",
      "[7, 7, 7, 7, 0, 7, 7, 7]\n",
      "[10, 0, 9, 11, 12, 9, 8, 10]\n"
     ]
    }
   ],
   "source": [
    "import chess\n",
    "\n",
    "def convert_board_to_numbers(board):\n",
    "    # Define a mapping of chess piece constants to unique numbers\n",
    "    piece_to_number = {\n",
    "        chess.PAWN: 1,\n",
    "        chess.KNIGHT: 2,\n",
    "        chess.BISHOP: 3,\n",
    "        chess.ROOK: 4,\n",
    "        chess.QUEEN: 5,\n",
    "        chess.KING: 6,\n",
    "    }\n",
    "    \n",
    "    # Initialize an empty 2D list to represent the converted board\n",
    "    converted_board = [[0] * 8 for _ in range(8)]\n",
    "    \n",
    "    # Iterate through the squares and populate the converted board\n",
    "    for square in chess.SQUARES:\n",
    "        piece = board.piece_at(square)\n",
    "        if piece is not None:\n",
    "            # Determine the color and piece type to get the unique number\n",
    "            piece_number = piece_to_number[piece.piece_type] + (piece.color == chess.BLACK) * 6\n",
    "            converted_board[chess.square_rank(square)][chess.square_file(square)] = piece_number\n",
    "    \n",
    "    return converted_board\n",
    "\n",
    "# Example usage:\n",
    "board = chess.Board()\n",
    "board.push_san(\"e4\")\n",
    "board.push_san(\"e5\")\n",
    "board.push_san(\"Qh5\")\n",
    "board.push_san(\"Nc6\")\n",
    "converted = convert_board_to_numbers(board)\n",
    "for row in converted:\n",
    "    print(row)\n"
   ]
  },
  {
   "cell_type": "code",
   "execution_count": 6,
   "id": "16d03d30-7705-46c3-9a48-ba0dfb1f24f7",
   "metadata": {},
   "outputs": [
    {
     "name": "stdout",
     "output_type": "stream",
     "text": [
      "<class 'list'>\n"
     ]
    }
   ],
   "source": [
    "print(type(converted))"
   ]
  },
  {
   "cell_type": "code",
   "execution_count": 20,
   "id": "2f226184-74a1-490c-b6c2-40b417a87805",
   "metadata": {},
   "outputs": [
    {
     "data": {
      "text/plain": [
       "tensor([[[10,  0,  9, 11, 12,  9,  8, 10],\n",
       "         [ 7,  7,  7,  7,  0,  7,  7,  7],\n",
       "         [ 0,  0,  8,  0,  0,  0,  0,  0],\n",
       "         [ 0,  0,  0,  0,  7,  0,  0,  5],\n",
       "         [ 0,  0,  0,  0,  1,  0,  0,  0],\n",
       "         [ 0,  0,  0,  0,  0,  0,  0,  0],\n",
       "         [ 1,  1,  1,  1,  0,  1,  1,  1],\n",
       "         [ 4,  2,  3,  0,  6,  3,  2,  4]]])"
      ]
     },
     "execution_count": 20,
     "metadata": {},
     "output_type": "execute_result"
    }
   ],
   "source": [
    "conv_board_tensor = torch.tensor(converted)\n",
    "conv_board_tensor = torch.flip(conv_board_tensor, [0])\n",
    "conv_board_tensor = conv_board_tensor.unsqueeze(0)\n",
    "conv_board_tensor"
   ]
  },
  {
   "cell_type": "code",
   "execution_count": 21,
   "id": "cbc81b1a-c30a-4f3f-97a1-d0d896ba7960",
   "metadata": {},
   "outputs": [
    {
     "name": "stdout",
     "output_type": "stream",
     "text": [
      "r . b q k b n r\n",
      "p p p p . p p p\n",
      ". . n . . . . .\n",
      ". . . . p . . Q\n",
      ". . . . P . . .\n",
      ". . . . . . . .\n",
      "P P P P . P P P\n",
      "R N B . K B N R\n"
     ]
    }
   ],
   "source": [
    "print(board)"
   ]
  },
  {
   "cell_type": "code",
   "execution_count": 22,
   "id": "ec52bb1e-6a9d-4bb9-9cea-8b30bb28a228",
   "metadata": {},
   "outputs": [],
   "source": [
    "board_rep = board_to_rep(board)"
   ]
  },
  {
   "cell_type": "code",
   "execution_count": 27,
   "id": "c156816f-af4d-407b-b8a7-63f6802c79f5",
   "metadata": {},
   "outputs": [
    {
     "data": {
      "text/plain": [
       "tensor([[[ 0,  0,  0,  0,  0,  0,  0,  0],\n",
       "         [-1, -1, -1, -1,  0, -1, -1, -1],\n",
       "         [ 0,  0,  0,  0,  0,  0,  0,  0],\n",
       "         [ 0,  0,  0,  0, -1,  0,  0,  0],\n",
       "         [ 0,  0,  0,  0,  1,  0,  0,  0],\n",
       "         [ 0,  0,  0,  0,  0,  0,  0,  0],\n",
       "         [ 1,  1,  1,  1,  0,  1,  1,  1],\n",
       "         [ 0,  0,  0,  0,  0,  0,  0,  0]],\n",
       "\n",
       "        [[-1,  0,  0,  0,  0,  0,  0, -1],\n",
       "         [ 0,  0,  0,  0,  0,  0,  0,  0],\n",
       "         [ 0,  0,  0,  0,  0,  0,  0,  0],\n",
       "         [ 0,  0,  0,  0,  0,  0,  0,  0],\n",
       "         [ 0,  0,  0,  0,  0,  0,  0,  0],\n",
       "         [ 0,  0,  0,  0,  0,  0,  0,  0],\n",
       "         [ 0,  0,  0,  0,  0,  0,  0,  0],\n",
       "         [ 1,  0,  0,  0,  0,  0,  0,  1]],\n",
       "\n",
       "        [[ 0,  0,  0,  0,  0,  0, -1,  0],\n",
       "         [ 0,  0,  0,  0,  0,  0,  0,  0],\n",
       "         [ 0,  0, -1,  0,  0,  0,  0,  0],\n",
       "         [ 0,  0,  0,  0,  0,  0,  0,  0],\n",
       "         [ 0,  0,  0,  0,  0,  0,  0,  0],\n",
       "         [ 0,  0,  0,  0,  0,  0,  0,  0],\n",
       "         [ 0,  0,  0,  0,  0,  0,  0,  0],\n",
       "         [ 0,  1,  0,  0,  0,  0,  1,  0]],\n",
       "\n",
       "        [[ 0,  0, -1,  0,  0, -1,  0,  0],\n",
       "         [ 0,  0,  0,  0,  0,  0,  0,  0],\n",
       "         [ 0,  0,  0,  0,  0,  0,  0,  0],\n",
       "         [ 0,  0,  0,  0,  0,  0,  0,  0],\n",
       "         [ 0,  0,  0,  0,  0,  0,  0,  0],\n",
       "         [ 0,  0,  0,  0,  0,  0,  0,  0],\n",
       "         [ 0,  0,  0,  0,  0,  0,  0,  0],\n",
       "         [ 0,  0,  1,  0,  0,  1,  0,  0]],\n",
       "\n",
       "        [[ 0,  0,  0, -1,  0,  0,  0,  0],\n",
       "         [ 0,  0,  0,  0,  0,  0,  0,  0],\n",
       "         [ 0,  0,  0,  0,  0,  0,  0,  0],\n",
       "         [ 0,  0,  0,  0,  0,  0,  0,  1],\n",
       "         [ 0,  0,  0,  0,  0,  0,  0,  0],\n",
       "         [ 0,  0,  0,  0,  0,  0,  0,  0],\n",
       "         [ 0,  0,  0,  0,  0,  0,  0,  0],\n",
       "         [ 0,  0,  0,  0,  0,  0,  0,  0]],\n",
       "\n",
       "        [[ 0,  0,  0,  0, -1,  0,  0,  0],\n",
       "         [ 0,  0,  0,  0,  0,  0,  0,  0],\n",
       "         [ 0,  0,  0,  0,  0,  0,  0,  0],\n",
       "         [ 0,  0,  0,  0,  0,  0,  0,  0],\n",
       "         [ 0,  0,  0,  0,  0,  0,  0,  0],\n",
       "         [ 0,  0,  0,  0,  0,  0,  0,  0],\n",
       "         [ 0,  0,  0,  0,  0,  0,  0,  0],\n",
       "         [ 0,  0,  0,  0,  1,  0,  0,  0]]])"
      ]
     },
     "execution_count": 27,
     "metadata": {},
     "output_type": "execute_result"
    }
   ],
   "source": [
    "torch.tensor(board_rep)"
   ]
  },
  {
   "cell_type": "code",
   "execution_count": 31,
   "id": "142e79c1-0319-4b81-bd25-4694d7743459",
   "metadata": {},
   "outputs": [
    {
     "name": "stdout",
     "output_type": "stream",
     "text": [
      "r . b q k b n r\n",
      "p p p p . p p p\n",
      ". . n . . . . .\n",
      ". . . . p . . Q\n",
      ". . . . P . . .\n",
      ". . . . . . . .\n",
      "P P P P . P P P\n",
      "R N B . K B N R\n"
     ]
    },
    {
     "data": {
      "text/plain": [
       "array([[[0., 0., 0., 0., 0., 0., 0., 0.],\n",
       "        [0., 0., 0., 0., 0., 0., 0., 0.],\n",
       "        [0., 0., 0., 0., 0., 0., 0., 0.],\n",
       "        [0., 0., 0., 0., 0., 0., 0., 0.],\n",
       "        [0., 0., 0., 0., 0., 0., 0., 0.],\n",
       "        [0., 0., 0., 0., 0., 0., 0., 0.],\n",
       "        [0., 0., 0., 0., 0., 0., 0., 0.],\n",
       "        [0., 0., 0., 0., 0., 1., 0., 0.]],\n",
       "\n",
       "       [[0., 0., 0., 0., 0., 0., 0., 0.],\n",
       "        [0., 0., 0., 0., 0., 0., 0., 0.],\n",
       "        [0., 0., 0., 0., 0., 0., 0., 0.],\n",
       "        [0., 0., 0., 0., 0., 0., 0., 0.],\n",
       "        [0., 0., 1., 0., 0., 0., 0., 0.],\n",
       "        [0., 0., 0., 0., 0., 0., 0., 0.],\n",
       "        [0., 0., 0., 0., 0., 0., 0., 0.],\n",
       "        [0., 0., 0., 0., 0., 0., 0., 0.]]])"
      ]
     },
     "execution_count": 31,
     "metadata": {},
     "output_type": "execute_result"
    }
   ],
   "source": [
    "print(board)\n",
    "move = move_to_rep(\"Bc4\", board)\n",
    "move\n"
   ]
  },
  {
   "cell_type": "code",
   "execution_count": null,
   "id": "904f1242-73c4-4b47-9b56-a6219d3bd0b1",
   "metadata": {},
   "outputs": [],
   "source": []
  }
 ],
 "metadata": {
  "kernelspec": {
   "display_name": "Python 3 (ipykernel)",
   "language": "python",
   "name": "python3"
  },
  "language_info": {
   "codemirror_mode": {
    "name": "ipython",
    "version": 3
   },
   "file_extension": ".py",
   "mimetype": "text/x-python",
   "name": "python",
   "nbconvert_exporter": "python",
   "pygments_lexer": "ipython3",
   "version": "3.8.12"
  }
 },
 "nbformat": 4,
 "nbformat_minor": 5
}
